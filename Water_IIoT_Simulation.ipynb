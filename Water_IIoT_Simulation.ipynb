{
  "cells": [
    {
      "cell_type": "markdown",
      "metadata": {},
      "source": [
        "# IIoT Water Management Simulation\n",
        "This notebook demonstrates a minimal IIoT simulation using sensors for a water management network."
      ]
    },
    {
      "cell_type": "code",
      "metadata": {},
      "execution_count": null,
      "outputs": [],
      "source": [
        "import random\n",
        "import time\n",
        "import matplotlib.pyplot as plt\n",
        "from matplotlib.animation import FuncAnimation\n"
      ]
    },
    {
      "cell_type": "code",
      "metadata": {},
      "execution_count": null,
      "outputs": [],
      "source": [
        "class Sensor:\n",
        "    \"\"\"Simulates a basic sensor producing measurements.\"\"\"\n",
        "    def __init__(self, name, unit, min_value, max_value, interval=1.0):\n",
        "        self.name = name\n",
        "        self.unit = unit\n",
        "        self.min_value = min_value\n",
        "        self.max_value = max_value\n",
        "        self.interval = interval\n",
        "        self.value = None\n",
        "        self.last_time = None\n",
        "    def read(self):\n",
        "        self.value = random.uniform(self.min_value, self.max_value)\n",
        "        self.last_time = time.time()\n",
        "        return self.value\n"
      ]
    },
    {
      "cell_type": "code",
      "metadata": {},
      "execution_count": null,
      "outputs": [],
      "source": [
        "class Monitor:\n",
        "    \"\"\"Collects data from sensors.\"\"\"\n",
        "    def __init__(self, sensors):\n",
        "        self.sensors = sensors\n",
        "        self.data = {s.name: [] for s in sensors}\n",
        "    def sample(self):\n",
        "        for sensor in self.sensors:\n",
        "            value = sensor.read()\n",
        "            self.data[sensor.name].append((sensor.last_time, value))\n"
      ]
    },
    {
      "cell_type": "code",
      "metadata": {},
      "execution_count": null,
      "outputs": [],
      "source": [
        "sensors = [\n",
        "    Sensor('Water Level', 'm', 0.0, 10.0),\n",
        "    Sensor('Flow Rate', 'm3/s', 0.0, 5.0),\n",
        "    Sensor('pH', '', 6.0, 9.0),\n",
        "]\n",
        "monitor = Monitor(sensors)\n",
        "fig, ax = plt.subplots()\n",
        "lines = {s.name: ax.plot([], [], label=s.name)[0] for s in sensors}\n",
        "ax.set_xlabel('Time (s)')\n",
        "ax.set_ylabel('Value')\n",
        "ax.legend()\n",
        "start_time = None\n",
        "\n",
        "def update(frame):\n",
        "    global start_time\n",
        "    if start_time is None:\n",
        "        start_time = frame\n",
        "    monitor.sample()\n",
        "    for name, line in lines.items():\n",
        "        data = monitor.data[name]\n",
        "        times = [t - start_time for t, _ in data]\n",
        "        values = [v for _, v in data]\n",
        "        line.set_data(times, values)\n",
        "    ax.relim()\n",
        "    ax.autoscale_view()\n",
        "    return list(lines.values())\n",
        "\n",
        "ani = FuncAnimation(fig, update, interval=1000)\n",
        "plt.show()\n"
      ]
    }
  ],
  "metadata": {
    "kernelspec": {
      "display_name": "Python 3",
      "language": "python",
      "name": "python3"
    },
    "language_info": {
      "name": "python"
    }
  },
  "nbformat": 4,
  "nbformat_minor": 5
}