{
 "cells": [
  {
   "cell_type": "markdown",
   "id": "1ff188a0",
   "metadata": {},
   "source": [
    "# IIoT Minimal Simulation\n",
    "This notebook consolidates the sensor, monitor, and visualization logic so it can be run directly in Google Colab."
   ]
  },
  {
   "cell_type": "code",
   "execution_count": null,
   "id": "f4afead1",
   "metadata": {},
   "outputs": [],
   "source": [
    "!pip install matplotlib"
   ]
  },
  {
   "cell_type": "markdown",
   "id": "97ee2eb6",
   "metadata": {},
   "source": [
    "## Sensor Definition"
   ]
  },
  {
   "cell_type": "code",
   "execution_count": null,
   "id": "348f271a",
   "metadata": {},
   "outputs": [],
   "source": [
    "import random\n",
    "import time\n",
    "\n",
    "class Sensor:\n",
    "    \"\"\"Simulates a basic sensor producing measurements.\"\"\"\n",
    "    def __init__(self, name: str, unit: str, min_value: float, max_value: float, interval: float = 1.0):\n",
    "        self.name = name\n",
    "        self.unit = unit\n",
    "        self.min_value = min_value\n",
    "        self.max_value = max_value\n",
    "        self.interval = interval\n",
    "        self.value = None\n",
    "        self.last_time = None\n",
    "\n",
    "    def read(self):\n",
    "        \"\"\"Generate a new measurement.\"\"\"\n",
    "        self.value = random.uniform(self.min_value, self.max_value)\n",
    "        self.last_time = time.time()\n",
    "        return self.value\n"
   ]
  },
  {
   "cell_type": "markdown",
   "id": "fe330c64",
   "metadata": {},
   "source": [
    "## Monitor Definition"
   ]
  },
  {
   "cell_type": "code",
   "execution_count": null,
   "id": "c2c84e28",
   "metadata": {},
   "outputs": [],
   "source": [
    "import time\n",
    "from collections import defaultdict\n",
    "from typing import List, Tuple\n",
    "\n",
    "from .sensor import Sensor\n",
    "\n",
    "class Monitor:\n",
    "    \"\"\"Collects data from sensors at fixed intervals.\"\"\"\n",
    "    def __init__(self, sensors: List[Sensor]):\n",
    "        self.sensors = sensors\n",
    "        self.data = defaultdict(list)  # sensor name -> list of (timestamp, value)\n",
    "\n",
    "    def sample(self):\n",
    "        \"\"\"Collect a sample from each sensor.\"\"\"\n",
    "        for sensor in self.sensors:\n",
    "            value = sensor.read()\n",
    "            self.data[sensor.name].append((sensor.last_time, value))\n",
    "\n",
    "    def run(self, duration: float, interval: float = 1.0):\n",
    "        \"\"\"Run sampling for a duration in seconds.\"\"\"\n",
    "        end_time = time.time() + duration\n",
    "        while time.time() < end_time:\n",
    "            self.sample()\n",
    "            time.sleep(interval)\n",
    "        return self.data\n"
   ]
  },
  {
   "cell_type": "markdown",
   "id": "5c7b4bef",
   "metadata": {},
   "source": [
    "## Visualization and Simulation"
   ]
  },
  {
   "cell_type": "code",
   "execution_count": null,
   "id": "34a7fd56",
   "metadata": {},
   "outputs": [],
   "source": [
    "\n",
    "import matplotlib.pyplot as plt\n",
    "from matplotlib.animation import FuncAnimation\n",
    "\n",
    "# Sensor and Monitor classes are expected to be defined above\n",
    "\n",
    "def main():\n",
    "    sensors = [\n",
    "        Sensor(\"Water Level\", \"m\", 0.0, 10.0),\n",
    "        Sensor(\"Flow Rate\", \"m3/s\", 0.0, 5.0),\n",
    "        Sensor(\"pH\", \"\", 6.0, 9.0),\n",
    "    ]\n",
    "    monitor = Monitor(sensors)\n",
    "\n",
    "    fig, ax = plt.subplots()\n",
    "    lines = {sensor.name: ax.plot([], [], label=sensor.name)[0] for sensor in sensors}\n",
    "    ax.set_xlim(0, 60)\n",
    "    ax.set_ylim(0, 10)\n",
    "    ax.set_xlabel(\"Time (s)\")\n",
    "    ax.set_ylabel(\"Value\")\n",
    "    ax.legend()\n",
    "\n",
    "    start_time = None\n",
    "\n",
    "    def update(frame):\n",
    "        nonlocal start_time\n",
    "        if start_time is None:\n",
    "            start_time = frame\n",
    "        monitor.sample()\n",
    "        elapsed = frame - start_time\n",
    "        for name, line in lines.items():\n",
    "            data = monitor.data[name]\n",
    "            times = [t - start_time for t, _ in data]\n",
    "            values = [v for _, v in data]\n",
    "            line.set_data(times, values)\n",
    "        ax.set_xlim(max(0, elapsed - 60), elapsed + 5)\n",
    "        return list(lines.values())\n",
    "\n",
    "    ani = FuncAnimation(fig, update, interval=1000)\n",
    "    plt.show()\n"
   ]
  },
  {
   "cell_type": "markdown",
   "id": "97b2f84e",
   "metadata": {},
   "source": [
    "Execute `main()` below to launch the real-time visualization."
   ]
  }
 ],
 "metadata": {},
 "nbformat": 4,
 "nbformat_minor": 5
}
